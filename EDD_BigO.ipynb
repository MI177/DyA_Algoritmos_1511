{
  "nbformat": 4,
  "nbformat_minor": 0,
  "metadata": {
    "colab": {
      "name": "EDD_BigO.ipynb",
      "provenance": [],
      "authorship_tag": "ABX9TyNEiiozfz9kuAr3Dy+DJl69",
      "include_colab_link": true
    },
    "kernelspec": {
      "name": "python3",
      "display_name": "Python 3"
    },
    "language_info": {
      "name": "python"
    }
  },
  "cells": [
    {
      "cell_type": "markdown",
      "metadata": {
        "id": "view-in-github",
        "colab_type": "text"
      },
      "source": [
        "<a href=\"https://colab.research.google.com/github/MI177/DyA_Algoritmos_1511/blob/main/EDD_BigO.ipynb\" target=\"_parent\"><img src=\"https://colab.research.google.com/assets/colab-badge.svg\" alt=\"Open In Colab\"/></a>"
      ]
    },
    {
      "cell_type": "markdown",
      "metadata": {
        "id": "ibtUnWCQEkVZ"
      },
      "source": [
        "#ADT\n",
        "##Arbol Binario\n",
        "Estructura de datos comformada por nodos, y cada nodo solo puede tener uno o dos hijos como maximo\n",
        "##Arbol Binario de busqueda ABB / BST\n"
      ]
    },
    {
      "cell_type": "code",
      "metadata": {
        "id": "ry6bR9TqENB4"
      },
      "source": [
        "class NodoArbol:\n",
        "  def __init__(self, value, left=None, rigth=None):\n",
        "    self.data=value\n",
        "    self.left=left\n",
        "    self.rigth=rigth\n",
        "  \n",
        "class ArbolBB:\n",
        "  def __init__(self):\n",
        "    pass"
      ],
      "execution_count": 4,
      "outputs": []
    },
    {
      "cell_type": "code",
      "metadata": {
        "colab": {
          "base_uri": "https://localhost:8080/"
        },
        "id": "6J0UYfzYLzfy",
        "outputId": "99cdfe33-9786-4841-84e7-650856d813fb"
      },
      "source": [
        "raiz=NodoArbol(60,None,None)\n",
        "raiz.left=NodoArbol(40,None,None)\n",
        "print(raiz.left.data)\n",
        "\n",
        "#Modo Nija\n",
        "raiz=NodoArbol(60,NodoArbol(40),None)\n",
        "print(raiz.left.data)\n",
        "\n",
        "raiz=NodoArbol(60,NodoArbol(40, NodoArbol(30)),NodoArbol(70))\n",
        "print(raiz.left.left.data)"
      ],
      "execution_count": 8,
      "outputs": [
        {
          "output_type": "stream",
          "name": "stdout",
          "text": [
            "40\n",
            "40\n",
            "30\n"
          ]
        }
      ]
    }
  ]
}