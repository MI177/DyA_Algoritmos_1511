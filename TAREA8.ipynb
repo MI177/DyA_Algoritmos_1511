{
  "nbformat": 4,
  "nbformat_minor": 0,
  "metadata": {
    "colab": {
      "name": "TAREA8.ipynb",
      "provenance": [],
      "authorship_tag": "ABX9TyOxHBY0EGJebSvzWY8pwv0B",
      "include_colab_link": true
    },
    "kernelspec": {
      "name": "python3",
      "display_name": "Python 3"
    },
    "language_info": {
      "name": "python"
    }
  },
  "cells": [
    {
      "cell_type": "markdown",
      "metadata": {
        "id": "view-in-github",
        "colab_type": "text"
      },
      "source": [
        "<a href=\"https://colab.research.google.com/github/MI177/DyA_Algoritmos_1511/blob/main/TAREA8.ipynb\" target=\"_parent\"><img src=\"https://colab.research.google.com/assets/colab-badge.svg\" alt=\"Open In Colab\"/></a>"
      ]
    },
    {
      "cell_type": "code",
      "metadata": {
        "id": "k2eTu17H8J3V"
      },
      "source": [
        "cifrado=\"zg gzhv lpz vidhv v gv pidqzmndyvy ivxdjivg, kjm hd mvuv cvwgvmá zg znkímdop, mzqzgv gv qjxvxdói cphviínodxv xji gv lpz apz xjixzwdyv. zg vpojm yz znov xégzwmz amvnz, ejné qvnxjixzgjn, vnphdó gv mzxojmív zi 1920, zi piv ékjxv zi lpz gvn znkzmviuvn yz gv mzqjgpxdói vúi znovwvi qdqvn, cvwív piv bmvi aé zi gv kvomdv t zg áidhj mzyziojm nz zsoziyív zi zg vhwdzioz.\"\n",
        "alfabeto=\"abcdefghijklmnopqrstuvwxyz\"\n",
        "\n",
        "for llave in range(1,len(alfabeto)):\n",
        "  for i in range (len(cifrado)):\n",
        "    if cifrado[i] in alfabeto:\n",
        "      #print(alfabeto.index(cifrado[i]),end=\" \")\n",
        "      index=alfabeto.index(cifrado[i])\n",
        "      print(alfabeto[(index + llave)%26], end=\" \")\n",
        "    else:\n",
        "      x=(cifrado[i], end=\" \")\n",
        "      blanco=\" \"\n",
        "      print(cambio=str.maketrans(x,blanco))\n",
        "  print(\"\")\n"
      ],
      "execution_count": null,
      "outputs": []
    }
  ]
}