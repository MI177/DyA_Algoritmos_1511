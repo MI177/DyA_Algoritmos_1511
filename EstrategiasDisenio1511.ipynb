{
  "nbformat": 4,
  "nbformat_minor": 0,
  "metadata": {
    "colab": {
      "name": "EstrategiasDisenio1511.ipynb",
      "provenance": [],
      "authorship_tag": "ABX9TyPSqdffJAS/AO1Y9alMrlqG",
      "include_colab_link": true
    },
    "kernelspec": {
      "name": "python3",
      "display_name": "Python 3"
    },
    "language_info": {
      "name": "python"
    }
  },
  "cells": [
    {
      "cell_type": "markdown",
      "metadata": {
        "id": "view-in-github",
        "colab_type": "text"
      },
      "source": [
        "<a href=\"https://colab.research.google.com/github/MI177/DyA_Algoritmos_1511/blob/main/EstrategiasDisenio1511.ipynb\" target=\"_parent\"><img src=\"https://colab.research.google.com/assets/colab-badge.svg\" alt=\"Open In Colab\"/></a>"
      ]
    },
    {
      "cell_type": "markdown",
      "metadata": {
        "id": "4_SGHvumYYPr"
      },
      "source": [
        "#Fuerza Bruta\n",
        "\n",
        "##Ejemplo 1 Busqueda de patrones de texto"
      ]
    },
    {
      "cell_type": "code",
      "metadata": {
        "colab": {
          "base_uri": "https://localhost:8080/"
        },
        "id": "O_PtF22AVzka",
        "outputId": "7eb63fc1-c926-41f5-a0db-a820b5284a5b"
      },
      "source": [
        "def string_match_brute(A, P):\n",
        "  for i in range (len(A) - len(P)):\n",
        "    for j in range (len(P)):\n",
        "      if P[j] == A[i+j]:\n",
        "        pass\n",
        "      else:\n",
        "        break\n",
        "    if j+1 == len(P) and A[i+j] == P[j]:\n",
        "      print(f\"Se encontro en la posicion: {i}\")\n",
        "\n",
        "entrada = \"0011100101011011101011011110\"\n",
        "patron = \"01101\"\n",
        "string_match_brute(entrada,patron)"
      ],
      "execution_count": 4,
      "outputs": [
        {
          "output_type": "stream",
          "name": "stdout",
          "text": [
            "Se encontro en la posicion: 10\n",
            "Se encontro en la posicion: 19\n"
          ]
        }
      ]
    }
  ]
}