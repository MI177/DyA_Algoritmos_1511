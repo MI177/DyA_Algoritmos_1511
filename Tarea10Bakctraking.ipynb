{
  "nbformat": 4,
  "nbformat_minor": 0,
  "metadata": {
    "colab": {
      "name": "Tarea10Bakctraking.ipynb",
      "provenance": [],
      "authorship_tag": "ABX9TyP6o4paVnt7MwAb13vuXkVE",
      "include_colab_link": true
    },
    "kernelspec": {
      "name": "python3",
      "display_name": "Python 3"
    },
    "language_info": {
      "name": "python"
    }
  },
  "cells": [
    {
      "cell_type": "markdown",
      "metadata": {
        "id": "view-in-github",
        "colab_type": "text"
      },
      "source": [
        "<a href=\"https://colab.research.google.com/github/MI177/DyA_Algoritmos_1511/blob/main/Tarea10Bakctraking.ipynb\" target=\"_parent\"><img src=\"https://colab.research.google.com/assets/colab-badge.svg\" alt=\"Open In Colab\"/></a>"
      ]
    },
    {
      "cell_type": "markdown",
      "metadata": {
        "id": "0I_qAvJylq-3"
      },
      "source": [
        "#Problema de las 8 reinas\n",
        "\n",
        "###Referencia:https://es.stackoverflow.com/questions/171895/solucion-reto-de-las-8-reinas-en-python"
      ]
    },
    {
      "cell_type": "code",
      "metadata": {
        "colab": {
          "base_uri": "https://localhost:8080/"
        },
        "id": "-QIczH2Slh1x",
        "outputId": "c460609d-7b8a-4fcc-ccac-6810c9457b15"
      },
      "source": [
        "def free(row, col):\n",
        "        \"\"\" Determina si la casilla rowxcol está libre de ataques.\n",
        "\n",
        "        @param row: Fila\n",
        "        @param col: Columna\n",
        "        @return: True si la casilla está libre de ataques por otras reinas.\n",
        "        \"\"\"\n",
        "        for i in range(8):\n",
        "            if tablero[row][i] == 'R' or tablero[i][col] == 'R':\n",
        "                return False\n",
        "\n",
        "        if row <= col:\n",
        "            c = col - row\n",
        "            r = 0\n",
        "        else:\n",
        "            r = row - col\n",
        "            c = 0\n",
        "        while c < 8 and r < 8:\n",
        "            if tablero[r][c] == 'R':\n",
        "                return False\n",
        "            r += 1\n",
        "            c += 1\n",
        "\n",
        "        if row <= col:\n",
        "            r = 0\n",
        "            c = col + row\n",
        "            if c > 7:\n",
        "                r = c - 7\n",
        "                c = 7\n",
        "        else:\n",
        "            c = 7\n",
        "            r = row - (7 - col)\n",
        "\n",
        "        while c >= 0 and r < 8:\n",
        "            if tablero[r][c] == 'R':\n",
        "                return False\n",
        "            r += 1\n",
        "            c -= 1\n",
        "\n",
        "        return True\n",
        "\n",
        "def agregar_reina(n):\n",
        "        \"\"\" Agrega n reinas al tablero.\n",
        "\n",
        "        @param: n El número de reinas a agregar\n",
        "        @return True si se pudo agregar las reinas requeridas\n",
        "        \"\"\"\n",
        "        if n < 1:\n",
        "            return True\n",
        "\n",
        "        for idx_row in range(8):\n",
        "            for idx_col in range(8):\n",
        "                if free(idx_row, idx_col):\n",
        "                    tablero[idx_row][idx_col] = 'R'\n",
        "                    if agregar_reina(n-1):\n",
        "                        return True\n",
        "                    else:\n",
        "                        tablero[idx_row][idx_col] = '_'\n",
        "\n",
        "        return False\n",
        "\n",
        "\n",
        "tablero = []\n",
        "for i in range(8):\n",
        "    tablero.append(['_'] * 8)\n",
        "agregar_reina(8)\n",
        "for row in tablero:\n",
        "    print(*row)"
      ],
      "execution_count": 11,
      "outputs": [
        {
          "output_type": "stream",
          "name": "stdout",
          "text": [
            "R _ _ _ _ _ _ _\n",
            "_ _ _ _ R _ _ _\n",
            "_ _ _ _ _ _ _ R\n",
            "_ _ _ _ _ R _ _\n",
            "_ _ R _ _ _ _ _\n",
            "_ _ _ _ _ _ R _\n",
            "_ R _ _ _ _ _ _\n",
            "_ _ _ R _ _ _ _\n"
          ]
        }
      ]
    },
    {
      "cell_type": "markdown",
      "metadata": {
        "id": "MQSe10FEl8RV"
      },
      "source": [
        "#Problema del viajante\n",
        "\n",
        "###Referencia:https://programmerclick.com/article/47131625946/"
      ]
    },
    {
      "cell_type": "markdown",
      "metadata": {
        "id": "QUOm24gnnNOC"
      },
      "source": [
        "#Problema de la mochila\n",
        "\n",
        "Es un problema de optimización, es decir, una función que debe maximizarse o minimizarse y restricciones que deben cumplirse. Para una mochila con capacidad máxima de artículos P y N, cada uno con su propio peso y un valor establecido, deseche los artículos dentro de la mochila para que el contenido final tenga el valor máximo.\n",
        "\n",
        "https://128mots.com/index.php/2021/03/29/problema-de-mochila-algoritmo-en-python-problema-de-mochila/\n",
        "\n",
        "https://programmerclick.com/article/13361524726/\n",
        "\n"
      ]
    }
  ]
}