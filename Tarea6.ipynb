{
  "nbformat": 4,
  "nbformat_minor": 0,
  "metadata": {
    "colab": {
      "name": "EDD_BigO.ipynb",
      "provenance": [],
      "authorship_tag": "ABX9TyPXHcN/EvqRqAJ515Zywxov",
      "include_colab_link": true
    },
    "kernelspec": {
      "name": "python3",
      "display_name": "Python 3"
    },
    "language_info": {
      "name": "python"
    }
  },
  "cells": [
    {
      "cell_type": "markdown",
      "metadata": {
        "id": "view-in-github",
        "colab_type": "text"
      },
      "source": [
        "<a href=\"https://colab.research.google.com/github/MI177/DyA_Algoritmos_1511/blob/main/Tarea6.ipynb\" target=\"_parent\"><img src=\"https://colab.research.google.com/assets/colab-badge.svg\" alt=\"Open In Colab\"/></a>"
      ]
    },
    {
      "cell_type": "markdown",
      "metadata": {
        "id": "ibtUnWCQEkVZ"
      },
      "source": [
        "#ADT\n",
        "##Arbol Binario\n",
        "Estructura de datos comformada por nodos, y cada nodo solo puede tener uno o dos hijos como maximo\n",
        "##Arbol Binario de busqueda ABB / BST\n"
      ]
    },
    {
      "cell_type": "code",
      "metadata": {
        "id": "ry6bR9TqENB4"
      },
      "source": [
        "class nodoarbol:\n",
        "  \n",
        "  def __init__(self,value,left=None,rigth=None):\n",
        "    self.data=value\n",
        "    self.left=left\n",
        "    self.rigth=rigth\n",
        "\n",
        "class arbolBB:\n",
        "  \n",
        "  def __init__(self):\n",
        "    self.__root=None\n",
        "\n",
        "\n",
        "  def insert(self,value):\n",
        "    if self.__root==None:\n",
        "      self.__root=nodoarbol(value)\n",
        "    else:\n",
        "      self.__insert_nodo__(self.__root,value)\n",
        "  \n",
        "  def __insert_nodo__(self,nodo,value):\n",
        "    if nodo.data==value:\n",
        "      pass\n",
        "    elif value <nodo.data:\n",
        "      if nodo.left==None:\n",
        "        nodo.left=nodoarbol(value)\n",
        "      else:\n",
        "        self.__insert_nodo__(nodo.left,value)\n",
        "    else:\n",
        "      if nodo.rigth==None:\n",
        "        nodo.rigth=nodoarbol(value)\n",
        "      else:\n",
        "        self.__insert_nodo__(nodo.rigth,value)\n",
        "\n",
        "#Preorden y Posorden\n",
        "\n",
        "  def trasversal(self,formato):\n",
        "    if formato ==\"inorden\":\n",
        "      print(\"inorden\")\n",
        "      self.recorrido_in(self.__root)\n",
        "\n",
        "    elif formato== \"preorden\":\n",
        "      print(\"preorden\")\n",
        "      self.recorrido_pre(self.__root)\n",
        "    elif formato==\"posorden\":\n",
        "      print(\"pos orden\")\n",
        "      self.recorrido_pos(self.__root)\n",
        "  \n",
        "  def recorrido_in(self,nodo):\n",
        "    if nodo!=None:\n",
        "      self.recorrido_in(nodo.left)\n",
        "      print(nodo.data,end=\"  \")\n",
        "      self.recorrido_in(nodo.rigth)\n",
        "  \n",
        "  def recorrido_pre(self,nodo):\n",
        "    if nodo!=None:\n",
        "      print(nodo.data,end=\"  \")\n",
        "      self.recorrido_pre(nodo.left)\n",
        "      self.recorrido_pre(nodo.rigth)\n",
        "  \n",
        "  def recorrido_pos(self,nodo):\n",
        "    if nodo!=None:\n",
        "      self.recorrido_pos(nodo.left)\n",
        "      self.recorrido_pos(nodo.rigth)\n",
        "      print(nodo.data,end=\"  \")\n",
        "  \n",
        "  def busqueda(self,value):\n",
        "    if self.__root ==None:\n",
        "      print(\"arbol vacio\")\n",
        "      return None\n",
        "    else:\n",
        "      return self.busca_nodo(self.__root,value)\n",
        "  \n",
        "  def busca_nodo(self,nodo,value):\n",
        "    if nodo==None:\n",
        "      print(\"no existe\")\n",
        "      return None\n",
        "    elif nodo.data==value:\n",
        "      print(\"encontrado\",nodo.data)\n",
        "      return nodo\n",
        "    elif value <nodo.data:\n",
        "      #print(\"buscar de lado izquierdo\")\n",
        "      return self.busca_nodo(nodo.left,value)\n",
        "    else:\n",
        "      #print(\"buscar de lado derecho\")\n",
        "      return self.busca_nodo(nodo.rigth,value)\n",
        "\n",
        "    def borra(self,value):\n",
        "        if self.__root == None:\n",
        "            print(\"Nada que eliminar\")\n",
        "        else:\n",
        "            self.__borra(None,None,self.__root,value)\n",
        "\n",
        "    def __borra(self,padre_hi,padre_hd,actual,value):\n",
        "        if actual==None:\n",
        "            print(\"Caso base\")\n",
        "            return None\n",
        "        elif actual.data==value:\n",
        "            print(\"Encontrado: \", actual.data)\n",
        "\n",
        "            #caso 1 hoja \n",
        "            if actual.left ==None and actual.right ==None:\n",
        "                if padre_hi != None:\n",
        "                    padre_hi.left=None\n",
        "                else:\n",
        "                    padre_hd.right = None\n",
        "\n",
        "            #caso 2 con un hijo\n",
        "            if (actual.left != None and actual.right ==None) or (actual.left == None and actual.right !=None):\n",
        "                print(\"es un nodo con un hijo\", actual.data)\n",
        "                if actual.left != None:\n",
        "                    actual.data=actual.left.data\n",
        "                    actual.left=None\n",
        "                else:\n",
        "                    actual.data=actual.right.data\n",
        "                    actual.right=None  \n",
        "\n",
        "            #caso 3 con ambos hijos\n",
        "            \n",
        "        elif value< actual.data:\n",
        "            print(\"Buscar a la izquierda\")\n",
        "            self.__borra(actual,None,actual.left,value)\n",
        "        else:\n",
        "            print(\"Buscar a la derecha\")\n",
        "            self.__borra(actual,None,actual.right,value)\n",
        "\n"
      ],
      "execution_count": 6,
      "outputs": []
    },
    {
      "cell_type": "code",
      "metadata": {
        "id": "0cTyFifA3rpz"
      },
      "source": [
        "abb=arbolBB()\n",
        "\n",
        "\"\"\"\n",
        "abb.insert(55)\n",
        "abb.insert(14)\n",
        "abb.insert(27)\n",
        "abb.insert(15)\n",
        "abb.insert(21)\n",
        "abb.insert(80)\n",
        "abb.insert(27)\n",
        "\"\"\"\n",
        "abb.insert(6)\n",
        "abb.insert(3)\n",
        "abb.insert(8)\n",
        "abb.trasversal(\"inorden\")\n",
        "abb.trasversal(\"preorden\")\n",
        "abb.trasversal(\"posorden\")\n",
        "resultado=abb.busqueda(80)\n",
        "print(resultado)\n",
        "\n",
        "#Prueba de borrado | El algoritmo ya lo conocia pero no se que paso aca :c ese error es tipico y todavia no lo se corregir\n",
        "\n",
        "abb.borra(3)\n",
        "abb.trasversal(\"inorden\")\n",
        "resultado=abb.busqueda(3)\n",
        "print(resultado)"
      ],
      "execution_count": null,
      "outputs": []
    },
    {
      "cell_type": "code",
      "metadata": {
        "colab": {
          "base_uri": "https://localhost:8080/"
        },
        "id": "6J0UYfzYLzfy",
        "outputId": "99cdfe33-9786-4841-84e7-650856d813fb"
      },
      "source": [
        "raiz=NodoArbol(60,None,None)\n",
        "raiz.left=NodoArbol(40,None,None)\n",
        "print(raiz.left.data)\n",
        "\n",
        "#Modo Nija\n",
        "raiz=NodoArbol(60,NodoArbol(40),None)\n",
        "print(raiz.left.data)\n",
        "\n",
        "raiz=NodoArbol(60,NodoArbol(40, NodoArbol(30)),NodoArbol(70))\n",
        "print(raiz.left.left.data)"
      ],
      "execution_count": null,
      "outputs": [
        {
          "output_type": "stream",
          "name": "stdout",
          "text": [
            "40\n",
            "40\n",
            "30\n"
          ]
        }
      ]
    }
  ]
}