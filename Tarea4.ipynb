{
  "nbformat": 4,
  "nbformat_minor": 0,
  "metadata": {
    "colab": {
      "name": "Tarea4.ipynb",
      "provenance": [],
      "authorship_tag": "ABX9TyMPWsWU//gKKena6T3R2Dud",
      "include_colab_link": true
    },
    "kernelspec": {
      "name": "python3",
      "display_name": "Python 3"
    },
    "language_info": {
      "name": "python"
    }
  },
  "cells": [
    {
      "cell_type": "markdown",
      "metadata": {
        "id": "view-in-github",
        "colab_type": "text"
      },
      "source": [
        "<a href=\"https://colab.research.google.com/github/MI177/DyA_Algoritmos_1511/blob/main/Tarea4.ipynb\" target=\"_parent\"><img src=\"https://colab.research.google.com/assets/colab-badge.svg\" alt=\"Open In Colab\"/></a>"
      ]
    },
    {
      "cell_type": "code",
      "metadata": {
        "id": "gLnJnKmeixjo"
      },
      "source": [
        "#Una disculpa por subirlo desde colaba, mi git bash no me da acceso al repositorio, no me deja hacer git pull :c\n",
        "\n",
        "hora=0\n",
        "minuto=0\n",
        "i=0\n",
        "\n",
        "\"\"\"while(hora<=23 and minuto<=59):\n",
        "    x=print(f'\"{hora}:{minuto}\"')\n",
        "    hora+=1\n",
        "    minuto+=1\n",
        "\n",
        "\n",
        "while(hora<=23):\n",
        "    x=print(hora)\n",
        "    hora+=1\n",
        "\n",
        "\n",
        "while(minuto<=59):\n",
        "    y=print(minuto)\n",
        "    minuto+=1\n",
        "\n",
        "\n",
        "\n",
        "--Suponiendo que eso funcionara, las horas se almanecarian en el arreglo dia--\n",
        "\n",
        "j=0\n",
        "dia=[\"00:00\",\"00:01\",\"00:02\",\"01:01\",\"01:10\",\"02:20\"]\n",
        "palindromo=[]\n",
        "\n",
        "for j in range(len(dia)):\n",
        "    reversa=dia[::-1]\n",
        "    while x != dia[5]:\n",
        "        if x == reversa:\n",
        "            palindromo.append(x)\n",
        "print(palindromo)\n",
        "\n",
        "\"\"\"\n",
        "\n",
        "\n",
        "#Intento 2\n",
        "while(hora<=23 and minuto <=59):\n",
        "    x=print(f'\"{hora}:{minuto}\"')\n",
        "    hora+=1\n",
        "    minuto+=1\n",
        "    \n",
        "\n",
        "\n",
        "#Intento 3\n",
        "iniciod= 0\n",
        "find= 24\n",
        "\n",
        "pd= []\n",
        "\n",
        "for i in range(iniciod,find+1):\n",
        "    hora= i\n",
        "    reversa= hora[::-1]\n",
        "\n",
        "    if hora == reversa:\n",
        "    \n",
        "        hora.replace(\".\",\":\")'\n",
        "        pd.append(i)\n",
        "\n",
        "print(pd)\n",
        "\n",
        "for i in range(iniciod, find):\n",
        "    x=str(i)\n",
        "    reversa=x[::-1]\n",
        "    print(reversa)\n",
        "\n",
        "iniciod=0\n",
        "find=0\n",
        "d=[]\n",
        "\n",
        "for i in range(iniciod, find):\n",
        "    d.append(i)\n",
        "    print(d)\"\"\"\n"
      ],
      "execution_count": null,
      "outputs": []
    }
  ]
}