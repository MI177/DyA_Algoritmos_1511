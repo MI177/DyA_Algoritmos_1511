{
  "nbformat": 4,
  "nbformat_minor": 0,
  "metadata": {
    "colab": {
      "name": "claseAyDdA_BigO_intro.ipynb",
      "provenance": [],
      "authorship_tag": "ABX9TyMDxlXz55I6wRlkP++77Cy+",
      "include_colab_link": true
    },
    "kernelspec": {
      "name": "python3",
      "display_name": "Python 3"
    },
    "language_info": {
      "name": "python"
    }
  },
  "cells": [
    {
      "cell_type": "markdown",
      "metadata": {
        "id": "view-in-github",
        "colab_type": "text"
      },
      "source": [
        "<a href=\"https://colab.research.google.com/github/MI177/DyA_Algoritmos_1511/blob/main/claseAyDdA_BigO_intro.ipynb\" target=\"_parent\"><img src=\"https://colab.research.google.com/assets/colab-badge.svg\" alt=\"Open In Colab\"/></a>"
      ]
    },
    {
      "cell_type": "code",
      "metadata": {
        "id": "_dDFTChY5xjM"
      },
      "source": [
        "def suma(num):\n",
        "  suma=0\n",
        "  for i in range(num+ 1):\n",
        "    suma += i\n",
        "  print(suma)"
      ],
      "execution_count": 9,
      "outputs": []
    },
    {
      "cell_type": "code",
      "metadata": {
        "colab": {
          "base_uri": "https://localhost:8080/"
        },
        "id": "HN55puq654nV",
        "outputId": "fb8824ab-c937-42df-f3a3-12d8fcbed8c2"
      },
      "source": [
        "import time\n",
        "time.time()\n",
        "marca1 = time.time()\n",
        "n=3\n",
        "suma(n)\n",
        "marca2=time.time()\n",
        "print(marca2-marca1)"
      ],
      "execution_count": 10,
      "outputs": [
        {
          "output_type": "stream",
          "name": "stdout",
          "text": [
            "6\n",
            "0.0012040138244628906\n"
          ]
        }
      ]
    },
    {
      "cell_type": "code",
      "metadata": {
        "id": "MXY-OGuf59gk"
      },
      "source": [
        "def sumaNumeros(n):\n",
        "  if(n==0):\n",
        "    return 0\n",
        "  else:\n",
        "    return n+sumaNumeros(n-1)"
      ],
      "execution_count": 6,
      "outputs": []
    },
    {
      "cell_type": "code",
      "metadata": {
        "colab": {
          "base_uri": "https://localhost:8080/"
        },
        "id": "oDUVSGxa6ACB",
        "outputId": "c4e529d0-4622-48db-c26f-9db0e6648db5"
      },
      "source": [
        "\n",
        "n=3\n",
        "sumaNumeros(n)"
      ],
      "execution_count": 7,
      "outputs": [
        {
          "output_type": "execute_result",
          "data": {
            "text/plain": [
              "6"
            ]
          },
          "metadata": {},
          "execution_count": 7
        }
      ]
    },
    {
      "cell_type": "code",
      "metadata": {
        "colab": {
          "base_uri": "https://localhost:8080/"
        },
        "id": "sQGuPavh2nf0",
        "outputId": "4d80add8-22ab-4304-81b6-d77dcb27cf16"
      },
      "source": [
        "numeros = [1,2,3,4,5,6,7,8,9]\n",
        "\n",
        "def unaFuncionCualquiera( lista ):\n",
        "    conteo = 0\n",
        "    for numero1 in lista:\n",
        "        for numero2 in lista:\n",
        "            print(numero1 , numero2 )\n",
        "            conteo += 1\n",
        "    return conteo\n",
        "\n",
        "conteo = unaFuncionCualquiera(numeros)\n",
        "\n",
        "print( \"Final:\" , conteo)"
      ],
      "execution_count": 1,
      "outputs": [
        {
          "output_type": "stream",
          "name": "stdout",
          "text": [
            "1 1\n",
            "1 2\n",
            "1 3\n",
            "1 4\n",
            "1 5\n",
            "1 6\n",
            "1 7\n",
            "1 8\n",
            "1 9\n",
            "2 1\n",
            "2 2\n",
            "2 3\n",
            "2 4\n",
            "2 5\n",
            "2 6\n",
            "2 7\n",
            "2 8\n",
            "2 9\n",
            "3 1\n",
            "3 2\n",
            "3 3\n",
            "3 4\n",
            "3 5\n",
            "3 6\n",
            "3 7\n",
            "3 8\n",
            "3 9\n",
            "4 1\n",
            "4 2\n",
            "4 3\n",
            "4 4\n",
            "4 5\n",
            "4 6\n",
            "4 7\n",
            "4 8\n",
            "4 9\n",
            "5 1\n",
            "5 2\n",
            "5 3\n",
            "5 4\n",
            "5 5\n",
            "5 6\n",
            "5 7\n",
            "5 8\n",
            "5 9\n",
            "6 1\n",
            "6 2\n",
            "6 3\n",
            "6 4\n",
            "6 5\n",
            "6 6\n",
            "6 7\n",
            "6 8\n",
            "6 9\n",
            "7 1\n",
            "7 2\n",
            "7 3\n",
            "7 4\n",
            "7 5\n",
            "7 6\n",
            "7 7\n",
            "7 8\n",
            "7 9\n",
            "8 1\n",
            "8 2\n",
            "8 3\n",
            "8 4\n",
            "8 5\n",
            "8 6\n",
            "8 7\n",
            "8 8\n",
            "8 9\n",
            "9 1\n",
            "9 2\n",
            "9 3\n",
            "9 4\n",
            "9 5\n",
            "9 6\n",
            "9 7\n",
            "9 8\n",
            "9 9\n",
            "Final: 81\n"
          ]
        }
      ]
    },
    {
      "cell_type": "markdown",
      "metadata": {
        "id": "B6gSXq8H7W16"
      },
      "source": [
        "#Ejercicio 2"
      ]
    },
    {
      "cell_type": "code",
      "metadata": {
        "colab": {
          "base_uri": "https://localhost:8080/"
        },
        "id": "2n2MUM_O6e1f",
        "outputId": "c56bef25-e2c8-44e0-d7d8-155e61548520"
      },
      "source": [
        "numeros = [1,2,3]\n",
        "\n",
        "def unaFuncionCualquiera( lista ):\n",
        "    conteo = 0 # O(1)\n",
        "    for numero1 in lista:\n",
        "        for numero2 in lista:\n",
        "            print(numero1 , numero2 ) # O(n^2)\n",
        "            conteo += 1 # O(n^2)\n",
        "    return conteo\n",
        "# O(1 + 2n^2)\n",
        "conteo = unaFuncionCualquiera(numeros)\n",
        "\n",
        "print( \"Final:\" , conteo)"
      ],
      "execution_count": 13,
      "outputs": [
        {
          "output_type": "stream",
          "name": "stdout",
          "text": [
            "1 1\n",
            "1 2\n",
            "1 3\n",
            "2 1\n",
            "2 2\n",
            "2 3\n",
            "3 1\n",
            "3 2\n",
            "3 3\n",
            "Final: 9\n"
          ]
        }
      ]
    },
    {
      "cell_type": "markdown",
      "metadata": {
        "id": "T3OQ5NZm7cfp"
      },
      "source": [
        "#Ejercicio 3"
      ]
    },
    {
      "cell_type": "code",
      "metadata": {
        "colab": {
          "base_uri": "https://localhost:8080/"
        },
        "id": "MtAVtGm-2q51",
        "outputId": "1b2a4e2a-7bd7-4f8d-9e02-61abb4dc0d3e"
      },
      "source": [
        "numeros = [1,2,3]\n",
        "\n",
        "def unaFuncionCualquiera( lista ):\n",
        "    conteo = 0 # O(1)\n",
        "    suma = 0 #O(1)\n",
        "    for num in lista:\n",
        "        suma += num   #O(n)\n",
        "    print(f\"La sumatoria de los numeros en la lista es={ suma } \")\n",
        "\n",
        "    for numero1 in lista:\n",
        "        for numero2 in lista:\n",
        "            print(numero1 , numero2 )   #O(n^2)\n",
        "            conteo += 1   #O(n^2)\n",
        "    return conteo\n",
        "\n",
        "# O(3 + n + 2n^2)\n",
        "\n",
        "conteo = unaFuncionCualquiera(numeros)\n",
        "\n",
        "print( \"Final:\" , conteo)"
      ],
      "execution_count": 2,
      "outputs": [
        {
          "output_type": "stream",
          "name": "stdout",
          "text": [
            "La sumatoria de los numeros en la lista es=6 \n",
            "1 1\n",
            "1 2\n",
            "1 3\n",
            "2 1\n",
            "2 2\n",
            "2 3\n",
            "3 1\n",
            "3 2\n",
            "3 3\n",
            "Final: 9\n"
          ]
        }
      ]
    },
    {
      "cell_type": "markdown",
      "metadata": {
        "id": "H0TDcbrb8q9K"
      },
      "source": [
        "#Ejercicio 3.2"
      ]
    },
    {
      "cell_type": "code",
      "metadata": {
        "colab": {
          "base_uri": "https://localhost:8080/"
        },
        "id": "ghDZIkHv8p4I",
        "outputId": "ce527e7a-3c63-4662-8664-f72a157b4d27"
      },
      "source": [
        "numeros = [1,2,3]\n",
        "numeros2 = [4,5,6]\n",
        "def unaFuncionCualquiera( lista,lista2 ):\n",
        "    conteo = 0 # O(1)\n",
        "    for numero1 in lista:\n",
        "        for numero2 in lista2:\n",
        "            print(numero1 , numero2 ) # O(n*m)\n",
        "            conteo += 1 # O(n*m)\n",
        "    return conteo\n",
        "# O(1 + 2((n*m)))\n",
        "conteo = unaFuncionCualquiera(numeros,numeros2)\n",
        "\n",
        "print( \"Final:\" , conteo)"
      ],
      "execution_count": 14,
      "outputs": [
        {
          "output_type": "stream",
          "name": "stdout",
          "text": [
            "1 4\n",
            "1 5\n",
            "1 6\n",
            "2 4\n",
            "2 5\n",
            "2 6\n",
            "3 4\n",
            "3 5\n",
            "3 6\n",
            "Final: 9\n"
          ]
        }
      ]
    },
    {
      "cell_type": "markdown",
      "metadata": {
        "id": "v6SY5cgK9RrG"
      },
      "source": [
        "#Ejercicio 4"
      ]
    },
    {
      "cell_type": "code",
      "metadata": {
        "colab": {
          "base_uri": "https://localhost:8080/"
        },
        "id": "z91G5_ng3UaM",
        "outputId": "85030d22-ed94-4580-b7f2-46a44473aff0"
      },
      "source": [
        "def busqueda_lineal(lista, val_a_buscar):\n",
        "  contador=0    #O(1)\n",
        "  for x in range(len(lista)):\n",
        "    contador +=1    #O(n)\n",
        "    if lista[x] == val_a_buscar:\n",
        "      print(f\"Encontrado en la posicion {x}\")   #O(1)\n",
        "      break\n",
        "  return contador\n",
        "\n",
        "#O(1 + n + 1) -----> O(2 + n)\n",
        "\n",
        "numeros = [2,3,1,23,24,25,10,100,35,8]\n",
        "comparaciones = busqueda_lineal(numeros,10)\n",
        "print(f\"{comparaciones} comparaciones\")"
      ],
      "execution_count": 4,
      "outputs": [
        {
          "output_type": "stream",
          "name": "stdout",
          "text": [
            "Encontrado en la posicion 6\n",
            "7 comparaciones\n"
          ]
        }
      ]
    },
    {
      "cell_type": "markdown",
      "metadata": {
        "id": "3sUDr5ab6QBg"
      },
      "source": [
        "#Simplificacion"
      ]
    },
    {
      "cell_type": "code",
      "metadata": {
        "id": "ATn-9cvW7FA7"
      },
      "source": [
        "numeros = [1,2,3]\n",
        "\n",
        "def unaFuncionCualquiera( lista ):\n",
        "    conteo = 0 # O(1)\n",
        "    for numero1 in lista:\n",
        "        for numero2 in lista:\n",
        "            print(numero1 , numero2 ) # O(n^2)\n",
        "            conteo += 1 # O(n^2)\n",
        "    return conteo\n",
        "# O(1 + 2n^2)\n",
        "#O(n^2)\n",
        "conteo = unaFuncionCualquiera(numeros)\n",
        "\n",
        "print( \"Final:\" , conteo)"
      ],
      "execution_count": null,
      "outputs": []
    },
    {
      "cell_type": "code",
      "metadata": {
        "id": "COOOQFlT7gQ6"
      },
      "source": [
        "numeros = [1,2,3]\n",
        "\n",
        "def unaFuncionCualquiera( lista ):\n",
        "    conteo = 0 # O(1)\n",
        "    suma = 0 #O(1)\n",
        "    for num in lista:\n",
        "        suma += num   #O(n)\n",
        "    print(f\"La sumatoria de los numeros en la lista es={ suma } \")\n",
        "\n",
        "    for numero1 in lista:\n",
        "        for numero2 in lista:\n",
        "            print(numero1 , numero2 )   #O(n^2)\n",
        "            conteo += 1   #O(n^2)\n",
        "    return conteo\n",
        "\n",
        "# O(3 + n + 2n^2)\n",
        "#       |\n",
        "#       |\n",
        "# O(n + n^2)\n",
        "\n",
        "#O(n^2) Orden final\n",
        "\n",
        "conteo = unaFuncionCualquiera(numeros)\n",
        "\n",
        "print( \"Final:\" , conteo)"
      ],
      "execution_count": null,
      "outputs": []
    },
    {
      "cell_type": "code",
      "metadata": {
        "id": "ze69XHSL8k2r"
      },
      "source": [
        "numeros = [1,2,3]\n",
        "numeros2 = [4,5,6]\n",
        "def unaFuncionCualquiera( lista,lista2 ):\n",
        "    conteo = 0 # O(1)\n",
        "    for numero1 in lista:\n",
        "        for numero2 in lista2:\n",
        "            print(numero1 , numero2 ) # O(n*m)\n",
        "            conteo += 1 # O(n*m)\n",
        "    return conteo\n",
        "# O(1 + 2((n*m)))\n",
        "\n",
        "#O(n*m) Complejidad final\n",
        "conteo = unaFuncionCualquiera(numeros,numeros2)\n",
        "\n",
        "print( \"Final:\" , conteo)"
      ],
      "execution_count": null,
      "outputs": []
    },
    {
      "cell_type": "code",
      "metadata": {
        "id": "Q__fBSh59QYe"
      },
      "source": [
        "def busqueda_lineal(lista, val_a_buscar):\n",
        "  contador=0    #O(1)\n",
        "  for x in range(len(lista)):\n",
        "    contador +=1    #O(n)\n",
        "    if lista[x] == val_a_buscar:\n",
        "      print(f\"Encontrado en la posicion {x}\")   #O(1)\n",
        "      break\n",
        "  return contador\n",
        "\n",
        "#O(1 + n + 1) -----> O(2 + n)\n",
        "\n",
        "#Aplica regla 2\n",
        "# Escenario medio O(2 + n/2)\n",
        "#Mejor escenario O(3) ---> O(2 + 1)\n",
        "#Peor escenario O(2 + n)\n",
        "#Regla 3 O(n)\n",
        "\n",
        "numeros = [2,3,1,23,24,8,25,10,100,35,68]\n",
        "comparaciones = busqueda_lineal(numeros,10)\n",
        "print(f\"{comparaciones} comparaciones\")"
      ],
      "execution_count": null,
      "outputs": []
    }
  ]
}