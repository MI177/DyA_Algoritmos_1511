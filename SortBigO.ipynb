{
  "nbformat": 4,
  "nbformat_minor": 0,
  "metadata": {
    "colab": {
      "name": "SortBigO.ipynb",
      "provenance": [],
      "authorship_tag": "ABX9TyP7pUZWg+elxKKVkzU5g2Y7",
      "include_colab_link": true
    },
    "kernelspec": {
      "name": "python3",
      "display_name": "Python 3"
    },
    "language_info": {
      "name": "python"
    }
  },
  "cells": [
    {
      "cell_type": "markdown",
      "metadata": {
        "id": "view-in-github",
        "colab_type": "text"
      },
      "source": [
        "<a href=\"https://colab.research.google.com/github/MI177/DyA_Algoritmos_1511/blob/main/SortBigO.ipynb\" target=\"_parent\"><img src=\"https://colab.research.google.com/assets/colab-badge.svg\" alt=\"Open In Colab\"/></a>"
      ]
    },
    {
      "cell_type": "markdown",
      "metadata": {
        "id": "iTDKeba6NC5U"
      },
      "source": [
        "#Burbuja Sort"
      ]
    },
    {
      "cell_type": "code",
      "metadata": {
        "colab": {
          "base_uri": "https://localhost:8080/",
          "height": 86
        },
        "id": "EH0u5j0PKqq0",
        "outputId": "fd70fe16-14ce-4ba5-ebe4-60a1658b39ed"
      },
      "source": [
        "info=[8,5,9,3]\n",
        "#info=[6500,8,5,9,3,12,28,7,64,72,3434,0,35,54,4]\n",
        "#range(<inici0>,<stop>,<incremento>)\n",
        "#range(3,0,-1)\n",
        "#intercambio --> a,b,=b,a\n",
        "\n",
        "def burbuja(data):      #M  O(n)       P  O(1)\n",
        "  tam=len(data)           #M  O(1)       P  O(1)\n",
        "  for tope in range(tam-1,0,-1):      #M  O(1)       P  O(na)\n",
        "    for pivote in range(tope):      #M  O(1)       P  O(na)\n",
        "      if data[pivote] > data[pivote+1]:         \n",
        "        data[pivote], data[pivote+1]=data[pivote+1], data[pivote]     #Peor caso entrar todas la veces   M  O(0)       P  O(2n^2)\n",
        "    print(f\"-->{data}<--\")\n",
        "  return data   #M  O(0)       P  O(1)\n",
        "\n",
        "burbuja(info)\n",
        "#M  O(n+3)       P  O(3+2n^2)\n",
        "#Simplificando\n",
        "#Regla 2   M  O(n)       P  O(n^2)\n",
        "#M(n)   P(n^2)"
      ],
      "execution_count": 7,
      "outputs": [
        {
          "output_type": "stream",
          "name": "stdout",
          "text": [
            "-->[5, 8, 3, 9]<--\n",
            "-->[5, 3, 8, 9]<--\n",
            "-->[3, 5, 8, 9]<--\n"
          ]
        },
        {
          "output_type": "execute_result",
          "data": {
            "application/vnd.google.colaboratory.intrinsic+json": {
              "type": "string"
            },
            "text/plain": [
              "'M  O(n+3)       P  O(3+2n^2)\\nSimplificando\\nRegla 2   M  O(n)       P  O(n^2)\\nM(n)   P(n^2)'"
            ]
          },
          "metadata": {},
          "execution_count": 7
        }
      ]
    },
    {
      "cell_type": "markdown",
      "metadata": {
        "id": "O4dlexjmWwDH"
      },
      "source": [
        "#Selection Sort"
      ]
    },
    {
      "cell_type": "code",
      "metadata": {
        "colab": {
          "base_uri": "https://localhost:8080/"
        },
        "id": "-N6epvEhWvmg",
        "outputId": "294c1708-139c-4b3a-f6d5-8b01fbaad4ac"
      },
      "source": [
        "def selection_sort(data):\n",
        "  for pivote in range(len(data)):\n",
        "    min = pivote #posicion del menor\n",
        "    for index in range(pivote, len(data), 1):\n",
        "      if data[index] < data[min]:\n",
        "        min=index\n",
        "    data[pivote], data[min]=data[min], data[pivote] #intercambio\n",
        "    print(f\"-->{data}<--\")\n",
        "  return data\n",
        "\n",
        "#info=[8,5,9,3]\n",
        "info=[6500,8,5,9,3,12,28,7,64,72,3434,0,35,54,4]\n",
        "print(selection_sort(info))"
      ],
      "execution_count": 9,
      "outputs": [
        {
          "output_type": "stream",
          "name": "stdout",
          "text": [
            "-->[0, 8, 5, 9, 3, 12, 28, 7, 64, 72, 3434, 6500, 35, 54, 4]<--\n",
            "-->[0, 3, 5, 9, 8, 12, 28, 7, 64, 72, 3434, 6500, 35, 54, 4]<--\n",
            "-->[0, 3, 4, 9, 8, 12, 28, 7, 64, 72, 3434, 6500, 35, 54, 5]<--\n",
            "-->[0, 3, 4, 5, 8, 12, 28, 7, 64, 72, 3434, 6500, 35, 54, 9]<--\n",
            "-->[0, 3, 4, 5, 7, 12, 28, 8, 64, 72, 3434, 6500, 35, 54, 9]<--\n",
            "-->[0, 3, 4, 5, 7, 8, 28, 12, 64, 72, 3434, 6500, 35, 54, 9]<--\n",
            "-->[0, 3, 4, 5, 7, 8, 9, 12, 64, 72, 3434, 6500, 35, 54, 28]<--\n",
            "-->[0, 3, 4, 5, 7, 8, 9, 12, 64, 72, 3434, 6500, 35, 54, 28]<--\n",
            "-->[0, 3, 4, 5, 7, 8, 9, 12, 28, 72, 3434, 6500, 35, 54, 64]<--\n",
            "-->[0, 3, 4, 5, 7, 8, 9, 12, 28, 35, 3434, 6500, 72, 54, 64]<--\n",
            "-->[0, 3, 4, 5, 7, 8, 9, 12, 28, 35, 54, 6500, 72, 3434, 64]<--\n",
            "-->[0, 3, 4, 5, 7, 8, 9, 12, 28, 35, 54, 64, 72, 3434, 6500]<--\n",
            "-->[0, 3, 4, 5, 7, 8, 9, 12, 28, 35, 54, 64, 72, 3434, 6500]<--\n",
            "-->[0, 3, 4, 5, 7, 8, 9, 12, 28, 35, 54, 64, 72, 3434, 6500]<--\n",
            "-->[0, 3, 4, 5, 7, 8, 9, 12, 28, 35, 54, 64, 72, 3434, 6500]<--\n",
            "[0, 3, 4, 5, 7, 8, 9, 12, 28, 35, 54, 64, 72, 3434, 6500]\n"
          ]
        }
      ]
    }
  ]
}