{
  "nbformat": 4,
  "nbformat_minor": 0,
  "metadata": {
    "colab": {
      "name": "SortBigO.ipynb",
      "provenance": [],
      "authorship_tag": "ABX9TyNmAuVTqtfu/XF0vYvX8gLc",
      "include_colab_link": true
    },
    "kernelspec": {
      "name": "python3",
      "display_name": "Python 3"
    },
    "language_info": {
      "name": "python"
    }
  },
  "cells": [
    {
      "cell_type": "markdown",
      "metadata": {
        "id": "view-in-github",
        "colab_type": "text"
      },
      "source": [
        "<a href=\"https://colab.research.google.com/github/MI177/DyA_Algoritmos_1511/blob/main/SortBigO.ipynb\" target=\"_parent\"><img src=\"https://colab.research.google.com/assets/colab-badge.svg\" alt=\"Open In Colab\"/></a>"
      ]
    },
    {
      "cell_type": "markdown",
      "metadata": {
        "id": "iTDKeba6NC5U"
      },
      "source": [
        "#Burbuja Sort"
      ]
    },
    {
      "cell_type": "code",
      "metadata": {
        "colab": {
          "base_uri": "https://localhost:8080/"
        },
        "id": "EH0u5j0PKqq0",
        "outputId": "23add8f6-e3b8-4fd5-ebe6-bff0efdfce41"
      },
      "source": [
        "info=[8,5,9,3]\n",
        "#info=[6500,8,5,9,3,12,28,7,64,72,3434,0,35,54,4]\n",
        "#range(<inici0>,<stop>,<incremento>)\n",
        "#range(3,0,-1)\n",
        "#intercambio --> a,b,=b,a\n",
        "\n",
        "def burbuja(data):      #M  O(n)       P  O(1)\n",
        "  tam=len(data)           #M  O(1)       P  O(1)\n",
        "  for tope in range(tam-1,0,-1):      #M  O(1)       P  O(na)\n",
        "    for pivote in range(tope):      #M  O(1)       P  O(na)\n",
        "      if data[pivote] > data[pivote+1]:         \n",
        "        data[pivote], data[pivote+1]=data[pivote+1], data[pivote]     #Peor caso entrar todas la veces   M  O(0)       P  O(2n^2)\n",
        "    print(f\"-->{data}<--\")\n",
        "  return data   #M  O(0)       P  O(1)\n",
        "\n",
        "print(burbuja(info))\n",
        "#M  O(n+3)       P  O(3+2n^2)\n",
        "#Simplificando\n",
        "#Regla 2   M  O(n)       P  O(n^2)\n",
        "#M(n)   P(n^2)"
      ],
      "execution_count": null,
      "outputs": [
        {
          "output_type": "stream",
          "name": "stdout",
          "text": [
            "-->[5, 8, 3, 9]<--\n",
            "-->[5, 3, 8, 9]<--\n",
            "-->[3, 5, 8, 9]<--\n",
            "[3, 5, 8, 9]\n"
          ]
        }
      ]
    },
    {
      "cell_type": "markdown",
      "metadata": {
        "id": "O4dlexjmWwDH"
      },
      "source": [
        "#Selection Sort"
      ]
    },
    {
      "cell_type": "code",
      "metadata": {
        "colab": {
          "base_uri": "https://localhost:8080/"
        },
        "id": "-N6epvEhWvmg",
        "outputId": "294c1708-139c-4b3a-f6d5-8b01fbaad4ac"
      },
      "source": [
        "def selection_sort(data):         #M  O(n)       P  O(1)\n",
        "  for pivote in range(len(data)):                 #M  O(1)       P  O(na)\n",
        "    min = pivote #posicion del menor              #M  O(1)       P  O(1*n=n)\n",
        "    for index in range(pivote, len(data), 1):     #M  O(1)       P  O(na)\n",
        "      if data[index] < data[min]:                 #M  O(0)       P  O(na)\n",
        "        min=index         #M  O(0)       P  O(1*n*n=1*n^2=n^2)\n",
        "    data[pivote], data[min]=data[min], data[pivote] #intercambio    #M  O(0)       P  O(2 por las asignaciones * n por el for = 2n)\n",
        "    print(f\"-->{data}<--\")    #M  O(0)       P  O(0)\n",
        "  return data     #M  O(0)       P  O(1)\n",
        "\n",
        "#info=[8,5,9,3]\n",
        "info=[6500,8,5,9,3,12,28,7,64,72,3434,0,35,54,4]\n",
        "print(selection_sort(info))\n",
        "\n",
        "#M  O(n+1+1+1 = n+3 = n)       P  O(1+n+n^2+2n+1 = n+n^2+n = n^2+n = n^2)"
      ],
      "execution_count": null,
      "outputs": [
        {
          "output_type": "stream",
          "name": "stdout",
          "text": [
            "-->[0, 8, 5, 9, 3, 12, 28, 7, 64, 72, 3434, 6500, 35, 54, 4]<--\n",
            "-->[0, 3, 5, 9, 8, 12, 28, 7, 64, 72, 3434, 6500, 35, 54, 4]<--\n",
            "-->[0, 3, 4, 9, 8, 12, 28, 7, 64, 72, 3434, 6500, 35, 54, 5]<--\n",
            "-->[0, 3, 4, 5, 8, 12, 28, 7, 64, 72, 3434, 6500, 35, 54, 9]<--\n",
            "-->[0, 3, 4, 5, 7, 12, 28, 8, 64, 72, 3434, 6500, 35, 54, 9]<--\n",
            "-->[0, 3, 4, 5, 7, 8, 28, 12, 64, 72, 3434, 6500, 35, 54, 9]<--\n",
            "-->[0, 3, 4, 5, 7, 8, 9, 12, 64, 72, 3434, 6500, 35, 54, 28]<--\n",
            "-->[0, 3, 4, 5, 7, 8, 9, 12, 64, 72, 3434, 6500, 35, 54, 28]<--\n",
            "-->[0, 3, 4, 5, 7, 8, 9, 12, 28, 72, 3434, 6500, 35, 54, 64]<--\n",
            "-->[0, 3, 4, 5, 7, 8, 9, 12, 28, 35, 3434, 6500, 72, 54, 64]<--\n",
            "-->[0, 3, 4, 5, 7, 8, 9, 12, 28, 35, 54, 6500, 72, 3434, 64]<--\n",
            "-->[0, 3, 4, 5, 7, 8, 9, 12, 28, 35, 54, 64, 72, 3434, 6500]<--\n",
            "-->[0, 3, 4, 5, 7, 8, 9, 12, 28, 35, 54, 64, 72, 3434, 6500]<--\n",
            "-->[0, 3, 4, 5, 7, 8, 9, 12, 28, 35, 54, 64, 72, 3434, 6500]<--\n",
            "-->[0, 3, 4, 5, 7, 8, 9, 12, 28, 35, 54, 64, 72, 3434, 6500]<--\n",
            "[0, 3, 4, 5, 7, 8, 9, 12, 28, 35, 54, 64, 72, 3434, 6500]\n"
          ]
        }
      ]
    },
    {
      "cell_type": "markdown",
      "metadata": {
        "id": "4dUsIg91z1a2"
      },
      "source": [
        "#InsertionSort \n",
        "Como cuando juegas cartas"
      ]
    },
    {
      "cell_type": "code",
      "metadata": {
        "id": "YikXyZ7Fz8HO",
        "colab": {
          "base_uri": "https://localhost:8080/"
        },
        "outputId": "769353e0-a879-4412-c381-7e74617baf75"
      },
      "source": [
        "def insertion_sort(data):           #M O(n)    P O(1)\n",
        "  print(f\"original {data}\")           #M O(0)    P O(1)\n",
        "  #logica\n",
        "  for pivote in range(1,len(data),1):           #M O(1)    P O(na)\n",
        "    for index in range(0,pivote+1,1):           #M O(1)    P O(na)\n",
        "      if data[pivote] < data[index]:           #M O(0)    P O(na)\n",
        "        tmp=data[pivote]           #M O(1)    P O(1*n = n)\n",
        "        #recorrer a la derecha\n",
        "        for i in range(pivote, index, -1):           #M O(1)    P O(na)\n",
        "          data[i] = data[i-1]           #M O(0)    P O(n*m)\n",
        "        data[index] = tmp           #M O(0)    P O(n)\n",
        "    print(f\"posicion {pivote} --->{data}<---\")           #M O(0)    P O(1)\n",
        "  return data           #M O(0)    P O(1)\n",
        "\n",
        "\n",
        "info=[10,51,2,18,4,31,12,5]\n",
        "\n",
        "print(insertion_sort(info))\n",
        "#T(n)\n",
        "#M O(n+4 = n)    P O(4+2n+n*m = 4+2n+n^2 = n + n^2 = n^2)"
      ],
      "execution_count": null,
      "outputs": [
        {
          "output_type": "stream",
          "name": "stdout",
          "text": [
            "original [10, 51, 2, 18, 4, 31, 12, 5]\n",
            "posicion 1 --->[10, 51, 2, 18, 4, 31, 12, 5]<---\n",
            "posicion 2 --->[2, 10, 51, 18, 4, 31, 12, 5]<---\n",
            "posicion 3 --->[2, 10, 18, 51, 4, 31, 12, 5]<---\n",
            "posicion 4 --->[2, 4, 10, 18, 51, 31, 12, 5]<---\n",
            "posicion 5 --->[2, 4, 10, 18, 31, 51, 12, 5]<---\n",
            "posicion 6 --->[2, 4, 10, 12, 18, 31, 51, 5]<---\n",
            "posicion 7 --->[2, 4, 5, 10, 12, 18, 31, 51]<---\n",
            "[2, 4, 5, 10, 12, 18, 31, 51]\n"
          ]
        }
      ]
    },
    {
      "cell_type": "markdown",
      "metadata": {
        "id": "RSzr820Cy-eI"
      },
      "source": [
        "#Merge Sort"
      ]
    },
    {
      "cell_type": "code",
      "metadata": {
        "id": "z1T1m-1xzG5-"
      },
      "source": [
        "def mergeSort(data):\n",
        "  tam=len(data)\n",
        "  #print(f\"recibo: {data}\")\n",
        "  if tam == 1:#caso base recursividad\n",
        "    return data\n",
        "\n",
        "  mid = tam//2\n",
        "  I=mergeSort(data[0:mid:1])\n",
        "  D=mergeSort(data[mid: :1])\n",
        "  #print(f\"{I}\\t\\t {D}\")\n",
        "  return merge(I,D)\n",
        "\n",
        "def merge(I,D):\n",
        "  resultado=[] * (len(I)+len(D))\n",
        "  i=0\n",
        "  d=0\n",
        "  r=0\n",
        "  while i < len(I) and d < len(D):\n",
        "    \n",
        "  \n",
        "\n",
        "\n",
        "  #Procesar los faltantes a la derecha o izquierda"
      ],
      "execution_count": 7,
      "outputs": []
    },
    {
      "cell_type": "code",
      "metadata": {
        "id": "d1lWFwcjz2Uk"
      },
      "source": [
        "numeros=[10,21,2,18,4,31,12,5]\n",
        "#mergeSort(numeros)"
      ],
      "execution_count": 9,
      "outputs": []
    }
  ]
}